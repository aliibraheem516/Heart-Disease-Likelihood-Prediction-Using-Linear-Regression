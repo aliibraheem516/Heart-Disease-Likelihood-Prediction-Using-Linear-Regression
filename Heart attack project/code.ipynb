{
 "cells": [
  {
   "cell_type": "markdown",
   "metadata": {},
   "source": [
    "Exercise: Heart Disease Prediction Using Logistic Regression\n",
    "\n",
    "Objective:\n",
    "The goal of this exercise is to use logistic regression to predict whether a patient has heart\n",
    "disease based on various health metrics provided in the dataset."
   ]
  },
  {
   "cell_type": "code",
   "execution_count": 11,
   "metadata": {},
   "outputs": [],
   "source": [
    "#Load the models needed to solve the question :\n",
    "import pandas as pd\n",
    "from sklearn.model_selection import train_test_split\n",
    "from sklearn.linear_model import LogisticRegression \n",
    "from sklearn.metrics import mean_squared_error,r2_score,accuracy_score"
   ]
  },
  {
   "cell_type": "code",
   "execution_count": null,
   "metadata": {},
   "outputs": [],
   "source": [
    "#load the dataset:\n",
    "df=pd.read_csv('heart.csv')\n",
    "#show the first 4 elements in the file :\n",
    "print(df.head())\n",
    "#to encrypt the non nuerical values to numerical or boolean value :\n",
    "df_enc=pd.get_dummies(df,drop_first=True)"
   ]
  },
  {
   "cell_type": "code",
   "execution_count": null,
   "metadata": {},
   "outputs": [],
   "source": [
    "#load the model \n",
    "model=LogisticRegression(max_iter=5000)\n",
    "#prepare and split the data to train and test the model \n",
    "X_train,X_test,y_train,y_test=train_test_split(df_enc.drop(columns='target'),df_enc['target'],test_size=0.2,random_state=True)\n",
    "#fit the model with the test data:\n",
    "model.fit(X_train, y_train)\n",
    "# Make predictions\n",
    "y_pred = model.predict(X_test)\n",
    "# Evaluate the model\n",
    "accuracy = accuracy_score(y_test, y_pred)\n",
    "print(accuracy)\n",
    "print(f'Model Accuracy: {accuracy:.2f}')\n",
   
   ]
  }
 ],
 "metadata": {
  "kernelspec": {
   "display_name": "testenv",
   "language": "python",
   "name": "python3"
  },
  "language_info": {
   "codemirror_mode": {
    "name": "ipython",
    "version": 3
   },
   "file_extension": ".py",
   "mimetype": "text/x-python",
   "name": "python",
   "nbconvert_exporter": "python",
   "pygments_lexer": "ipython3",
   "version": "3.7.12"
  }
 },
 "nbformat": 4,
 "nbformat_minor": 2
}
